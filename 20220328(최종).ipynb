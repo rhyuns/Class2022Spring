{
  "nbformat": 4,
  "nbformat_minor": 0,
  "metadata": {
    "colab": {
      "name": "20220328(최종).ipynb",
      "provenance": [],
      "authorship_tag": "ABX9TyOECY8g2fVhGKohvRNs+g2Q",
      "include_colab_link": true
    },
    "kernelspec": {
      "name": "python3",
      "display_name": "Python 3"
    },
    "language_info": {
      "name": "python"
    }
  },
  "cells": [
    {
      "cell_type": "markdown",
      "metadata": {
        "id": "view-in-github",
        "colab_type": "text"
      },
      "source": [
        "<a href=\"https://colab.research.google.com/github/rhyuns/class2022Spring/blob/main/20220328(%EC%B5%9C%EC%A2%85).ipynb\" target=\"_parent\"><img src=\"https://colab.research.google.com/assets/colab-badge.svg\" alt=\"Open In Colab\"/></a>"
      ]
    },
    {
      "cell_type": "code",
      "execution_count": null,
      "metadata": {
        "id": "NduOLpaLfciT"
      },
      "outputs": [],
      "source": [
        "!pip install gradio\n",
        "import gradio as gr\n",
        "import requests\n",
        "import pandas as pd"
      ]
    },
    {
      "cell_type": "code",
      "source": [
        "URL = ('http://apis.data.go.kr/B552061/frequentzoneBicycle/getRestFrequentzoneBicycle?'\n",
        "'&ServiceKey=DRlfXP8FEUiOhxnbrYh9Cjad%2BXPzUADWQRjShzV8pMKay6Ppsl%2FhC5O9RAW18tYWM7UDVUk3RWAFeve56atnXg%3D%3D'\n",
        "'&searchYearCd=2017'\n",
        "'&siDo=11'\n",
        "'&guGun=680'\n",
        "'&type=json'\n",
        "'&numOfRows=10'\n",
        "'&pageNo=1')\n",
        "response = requests.get(URL)"
      ],
      "metadata": {
        "id": "q99TNT__ffDl"
      },
      "execution_count": 2,
      "outputs": []
    },
    {
      "cell_type": "code",
      "source": [
        "response"
      ],
      "metadata": {
        "colab": {
          "base_uri": "https://localhost:8080/"
        },
        "id": "N_hZHoV8gC9n",
        "outputId": "d354280c-2724-4417-d15e-971a9b73520f"
      },
      "execution_count": 3,
      "outputs": [
        {
          "output_type": "execute_result",
          "data": {
            "text/plain": [
              "<Response [200]>"
            ]
          },
          "metadata": {},
          "execution_count": 3
        }
      ]
    },
    {
      "cell_type": "code",
      "source": [
        "r = response.json()\n",
        "r"
      ],
      "metadata": {
        "colab": {
          "base_uri": "https://localhost:8080/"
        },
        "id": "iaYCFGdJf-fK",
        "outputId": "f0c6bdf0-4da2-48ea-ca8b-31b1358ccbda"
      },
      "execution_count": 4,
      "outputs": [
        {
          "output_type": "execute_result",
          "data": {
            "text/plain": [
              "{'items': {'item': [{'afos_fid': 6411495,\n",
              "    'afos_id': '2018032',\n",
              "    'bjd_cd': '1168010600',\n",
              "    'caslt_cnt': 4,\n",
              "    'dth_dnv_cnt': 0,\n",
              "    'geom_json': '{\"type\":\"Polygon\",\"coordinates\":[[[127.06786633,37.50044401],[127.06783181,37.50016593],[127.06772957,37.49989854],[127.06756354,37.49965212],[127.06734011,37.49943612],[127.06706786,37.49925886],[127.06675724,37.49912714],[127.06642021,37.49904603],[127.0660697,37.49901864],[127.0657192,37.49904603],[127.06538216,37.49912714],[127.06507155,37.49925886],[127.06479929,37.49943612],[127.06457586,37.49965212],[127.06440983,37.49989854],[127.06430759,37.50016593],[127.06427307,37.50044401],[127.06430759,37.50072208],[127.06440983,37.50098946],[127.06457586,37.50123589],[127.06479929,37.50145188],[127.06507155,37.50162914],[127.06538216,37.50176085],[127.0657192,37.50184196],[127.0660697,37.50186935],[127.06642021,37.50184196],[127.06675724,37.50176085],[127.06706786,37.50162914],[127.06734011,37.50145188],[127.06756354,37.50123589],[127.06772957,37.50098946],[127.06783181,37.50072208],[127.06786633,37.50044401]]]}',\n",
              "    'la_crd': '37.500444005887',\n",
              "    'lo_crd': '127.066069701257',\n",
              "    'occrrnc_cnt': 4,\n",
              "    'se_dnv_cnt': 1,\n",
              "    'sido_sgg_nm': '서울특별시 강남구1',\n",
              "    'sl_dnv_cnt': 1,\n",
              "    'spot_cd': '11680001',\n",
              "    'spot_nm': '서울특별시 강남구 대치동(원일빌딩 부근)',\n",
              "    'wnd_dnv_cnt': 2},\n",
              "   {'afos_fid': 6411382,\n",
              "    'afos_id': '2018032',\n",
              "    'bjd_cd': '1168010100',\n",
              "    'caslt_cnt': 4,\n",
              "    'dth_dnv_cnt': 0,\n",
              "    'geom_json': '{\"type\":\"Polygon\",\"coordinates\":[[[127.04790497,37.49556475],[127.04787045,37.49528666],[127.04776821,37.49501925],[127.04760218,37.49477281],[127.04737875,37.4945568],[127.0471065,37.49437952],[127.04679588,37.4942478],[127.04645885,37.49416668],[127.04610834,37.49413929],[127.04575784,37.49416668],[127.0454208,37.4942478],[127.04511019,37.49437952],[127.04483793,37.4945568],[127.0446145,37.49477281],[127.04444847,37.49501925],[127.04434623,37.49528666],[127.04431171,37.49556475],[127.04434623,37.49584284],[127.04444847,37.49611024],[127.0446145,37.49635668],[127.04483793,37.49657269],[127.04511019,37.49674996],[127.0454208,37.49688168],[127.04575784,37.49696279],[127.04610834,37.49699018],[127.04645885,37.49696279],[127.04679588,37.49688168],[127.0471065,37.49674996],[127.04737875,37.49657269],[127.04760218,37.49635668],[127.04776821,37.49611024],[127.04787045,37.49584284],[127.04790497,37.49556475]]]}',\n",
              "    'la_crd': '37.495564748515',\n",
              "    'lo_crd': '127.046108341028',\n",
              "    'occrrnc_cnt': 4,\n",
              "    'se_dnv_cnt': 0,\n",
              "    'sido_sgg_nm': '서울특별시 강남구2',\n",
              "    'sl_dnv_cnt': 3,\n",
              "    'spot_cd': '11680002',\n",
              "    'spot_nm': '서울특별시 강남구 역삼동(강남세브란스사거리 부근)',\n",
              "    'wnd_dnv_cnt': 1}]},\n",
              " 'numOfRows': 2,\n",
              " 'pageNo': 1,\n",
              " 'resultCode': '00',\n",
              " 'resultMsg': 'NORMAL_CODE',\n",
              " 'totalCount': 2}"
            ]
          },
          "metadata": {},
          "execution_count": 4
        }
      ]
    },
    {
      "cell_type": "markdown",
      "source": [
        "#### http://jsonviewer.stack.hu/ (copy json here to view json)"
      ],
      "metadata": {
        "id": "J0tUYOiAkxBT"
      }
    },
    {
      "cell_type": "code",
      "source": [
        "items = r['items']['item']\n",
        "items"
      ],
      "metadata": {
        "colab": {
          "base_uri": "https://localhost:8080/"
        },
        "id": "Z3MFMTIVkyGS",
        "outputId": "fb9f1ea8-52e2-4bf6-8bf7-d0c360b06af7"
      },
      "execution_count": 5,
      "outputs": [
        {
          "output_type": "execute_result",
          "data": {
            "text/plain": [
              "[{'afos_fid': 6411495,\n",
              "  'afos_id': '2018032',\n",
              "  'bjd_cd': '1168010600',\n",
              "  'caslt_cnt': 4,\n",
              "  'dth_dnv_cnt': 0,\n",
              "  'geom_json': '{\"type\":\"Polygon\",\"coordinates\":[[[127.06786633,37.50044401],[127.06783181,37.50016593],[127.06772957,37.49989854],[127.06756354,37.49965212],[127.06734011,37.49943612],[127.06706786,37.49925886],[127.06675724,37.49912714],[127.06642021,37.49904603],[127.0660697,37.49901864],[127.0657192,37.49904603],[127.06538216,37.49912714],[127.06507155,37.49925886],[127.06479929,37.49943612],[127.06457586,37.49965212],[127.06440983,37.49989854],[127.06430759,37.50016593],[127.06427307,37.50044401],[127.06430759,37.50072208],[127.06440983,37.50098946],[127.06457586,37.50123589],[127.06479929,37.50145188],[127.06507155,37.50162914],[127.06538216,37.50176085],[127.0657192,37.50184196],[127.0660697,37.50186935],[127.06642021,37.50184196],[127.06675724,37.50176085],[127.06706786,37.50162914],[127.06734011,37.50145188],[127.06756354,37.50123589],[127.06772957,37.50098946],[127.06783181,37.50072208],[127.06786633,37.50044401]]]}',\n",
              "  'la_crd': '37.500444005887',\n",
              "  'lo_crd': '127.066069701257',\n",
              "  'occrrnc_cnt': 4,\n",
              "  'se_dnv_cnt': 1,\n",
              "  'sido_sgg_nm': '서울특별시 강남구1',\n",
              "  'sl_dnv_cnt': 1,\n",
              "  'spot_cd': '11680001',\n",
              "  'spot_nm': '서울특별시 강남구 대치동(원일빌딩 부근)',\n",
              "  'wnd_dnv_cnt': 2},\n",
              " {'afos_fid': 6411382,\n",
              "  'afos_id': '2018032',\n",
              "  'bjd_cd': '1168010100',\n",
              "  'caslt_cnt': 4,\n",
              "  'dth_dnv_cnt': 0,\n",
              "  'geom_json': '{\"type\":\"Polygon\",\"coordinates\":[[[127.04790497,37.49556475],[127.04787045,37.49528666],[127.04776821,37.49501925],[127.04760218,37.49477281],[127.04737875,37.4945568],[127.0471065,37.49437952],[127.04679588,37.4942478],[127.04645885,37.49416668],[127.04610834,37.49413929],[127.04575784,37.49416668],[127.0454208,37.4942478],[127.04511019,37.49437952],[127.04483793,37.4945568],[127.0446145,37.49477281],[127.04444847,37.49501925],[127.04434623,37.49528666],[127.04431171,37.49556475],[127.04434623,37.49584284],[127.04444847,37.49611024],[127.0446145,37.49635668],[127.04483793,37.49657269],[127.04511019,37.49674996],[127.0454208,37.49688168],[127.04575784,37.49696279],[127.04610834,37.49699018],[127.04645885,37.49696279],[127.04679588,37.49688168],[127.0471065,37.49674996],[127.04737875,37.49657269],[127.04760218,37.49635668],[127.04776821,37.49611024],[127.04787045,37.49584284],[127.04790497,37.49556475]]]}',\n",
              "  'la_crd': '37.495564748515',\n",
              "  'lo_crd': '127.046108341028',\n",
              "  'occrrnc_cnt': 4,\n",
              "  'se_dnv_cnt': 0,\n",
              "  'sido_sgg_nm': '서울특별시 강남구2',\n",
              "  'sl_dnv_cnt': 3,\n",
              "  'spot_cd': '11680002',\n",
              "  'spot_nm': '서울특별시 강남구 역삼동(강남세브란스사거리 부근)',\n",
              "  'wnd_dnv_cnt': 1}]"
            ]
          },
          "metadata": {},
          "execution_count": 5
        }
      ]
    },
    {
      "cell_type": "code",
      "source": [
        "afos_id = [item['afos_id'] for item in items]\n",
        "caslt_cnt = [item['caslt_cnt'] for item in items]\n",
        "dth_dnv_cnt = [item['dth_dnv_cnt'] for item in items]\n",
        "sido_sgg_nm = [item['sido_sgg_nm'] for item in items]\n",
        "spot_nm = [item['spot_nm'] for item in items]\n",
        "\n",
        "afos_id = pd.Series(afos_id)\n",
        "caslt_cnt = pd.Series(caslt_cnt)\n",
        "dth_dnv_cnt = pd.Series(dth_dnv_cnt)\n",
        "sido_sgg_nm = pd.Series(sido_sgg_nm)\n",
        "spot_nm = pd.Series(spot_nm)\n",
        "\n",
        "df = pd.DataFrame({'afos_id': afos_id, 'caslt_cnt': caslt_cnt, 'dht_dnv_cnt': dth_dnv_cnt, 'sido_sgg_nm': sido_sgg_nm, 'spot_nm': spot_nm})\n",
        "df"
      ],
      "metadata": {
        "colab": {
          "base_uri": "https://localhost:8080/",
          "height": 112
        },
        "id": "xwt2nYezlTPG",
        "outputId": "bdd6d106-2e80-48e1-bdc3-f672f0f39f69"
      },
      "execution_count": 6,
      "outputs": [
        {
          "output_type": "execute_result",
          "data": {
            "text/plain": [
              "   afos_id  caslt_cnt  dht_dnv_cnt sido_sgg_nm                      spot_nm\n",
              "0  2018032          4            0  서울특별시 강남구1       서울특별시 강남구 대치동(원일빌딩 부근)\n",
              "1  2018032          4            0  서울특별시 강남구2  서울특별시 강남구 역삼동(강남세브란스사거리 부근)"
            ],
            "text/html": [
              "\n",
              "  <div id=\"df-607b7562-3a81-4ff6-988d-e91181dedb78\">\n",
              "    <div class=\"colab-df-container\">\n",
              "      <div>\n",
              "<style scoped>\n",
              "    .dataframe tbody tr th:only-of-type {\n",
              "        vertical-align: middle;\n",
              "    }\n",
              "\n",
              "    .dataframe tbody tr th {\n",
              "        vertical-align: top;\n",
              "    }\n",
              "\n",
              "    .dataframe thead th {\n",
              "        text-align: right;\n",
              "    }\n",
              "</style>\n",
              "<table border=\"1\" class=\"dataframe\">\n",
              "  <thead>\n",
              "    <tr style=\"text-align: right;\">\n",
              "      <th></th>\n",
              "      <th>afos_id</th>\n",
              "      <th>caslt_cnt</th>\n",
              "      <th>dht_dnv_cnt</th>\n",
              "      <th>sido_sgg_nm</th>\n",
              "      <th>spot_nm</th>\n",
              "    </tr>\n",
              "  </thead>\n",
              "  <tbody>\n",
              "    <tr>\n",
              "      <th>0</th>\n",
              "      <td>2018032</td>\n",
              "      <td>4</td>\n",
              "      <td>0</td>\n",
              "      <td>서울특별시 강남구1</td>\n",
              "      <td>서울특별시 강남구 대치동(원일빌딩 부근)</td>\n",
              "    </tr>\n",
              "    <tr>\n",
              "      <th>1</th>\n",
              "      <td>2018032</td>\n",
              "      <td>4</td>\n",
              "      <td>0</td>\n",
              "      <td>서울특별시 강남구2</td>\n",
              "      <td>서울특별시 강남구 역삼동(강남세브란스사거리 부근)</td>\n",
              "    </tr>\n",
              "  </tbody>\n",
              "</table>\n",
              "</div>\n",
              "      <button class=\"colab-df-convert\" onclick=\"convertToInteractive('df-607b7562-3a81-4ff6-988d-e91181dedb78')\"\n",
              "              title=\"Convert this dataframe to an interactive table.\"\n",
              "              style=\"display:none;\">\n",
              "        \n",
              "  <svg xmlns=\"http://www.w3.org/2000/svg\" height=\"24px\"viewBox=\"0 0 24 24\"\n",
              "       width=\"24px\">\n",
              "    <path d=\"M0 0h24v24H0V0z\" fill=\"none\"/>\n",
              "    <path d=\"M18.56 5.44l.94 2.06.94-2.06 2.06-.94-2.06-.94-.94-2.06-.94 2.06-2.06.94zm-11 1L8.5 8.5l.94-2.06 2.06-.94-2.06-.94L8.5 2.5l-.94 2.06-2.06.94zm10 10l.94 2.06.94-2.06 2.06-.94-2.06-.94-.94-2.06-.94 2.06-2.06.94z\"/><path d=\"M17.41 7.96l-1.37-1.37c-.4-.4-.92-.59-1.43-.59-.52 0-1.04.2-1.43.59L10.3 9.45l-7.72 7.72c-.78.78-.78 2.05 0 2.83L4 21.41c.39.39.9.59 1.41.59.51 0 1.02-.2 1.41-.59l7.78-7.78 2.81-2.81c.8-.78.8-2.07 0-2.86zM5.41 20L4 18.59l7.72-7.72 1.47 1.35L5.41 20z\"/>\n",
              "  </svg>\n",
              "      </button>\n",
              "      \n",
              "  <style>\n",
              "    .colab-df-container {\n",
              "      display:flex;\n",
              "      flex-wrap:wrap;\n",
              "      gap: 12px;\n",
              "    }\n",
              "\n",
              "    .colab-df-convert {\n",
              "      background-color: #E8F0FE;\n",
              "      border: none;\n",
              "      border-radius: 50%;\n",
              "      cursor: pointer;\n",
              "      display: none;\n",
              "      fill: #1967D2;\n",
              "      height: 32px;\n",
              "      padding: 0 0 0 0;\n",
              "      width: 32px;\n",
              "    }\n",
              "\n",
              "    .colab-df-convert:hover {\n",
              "      background-color: #E2EBFA;\n",
              "      box-shadow: 0px 1px 2px rgba(60, 64, 67, 0.3), 0px 1px 3px 1px rgba(60, 64, 67, 0.15);\n",
              "      fill: #174EA6;\n",
              "    }\n",
              "\n",
              "    [theme=dark] .colab-df-convert {\n",
              "      background-color: #3B4455;\n",
              "      fill: #D2E3FC;\n",
              "    }\n",
              "\n",
              "    [theme=dark] .colab-df-convert:hover {\n",
              "      background-color: #434B5C;\n",
              "      box-shadow: 0px 1px 3px 1px rgba(0, 0, 0, 0.15);\n",
              "      filter: drop-shadow(0px 1px 2px rgba(0, 0, 0, 0.3));\n",
              "      fill: #FFFFFF;\n",
              "    }\n",
              "  </style>\n",
              "\n",
              "      <script>\n",
              "        const buttonEl =\n",
              "          document.querySelector('#df-607b7562-3a81-4ff6-988d-e91181dedb78 button.colab-df-convert');\n",
              "        buttonEl.style.display =\n",
              "          google.colab.kernel.accessAllowed ? 'block' : 'none';\n",
              "\n",
              "        async function convertToInteractive(key) {\n",
              "          const element = document.querySelector('#df-607b7562-3a81-4ff6-988d-e91181dedb78');\n",
              "          const dataTable =\n",
              "            await google.colab.kernel.invokeFunction('convertToInteractive',\n",
              "                                                     [key], {});\n",
              "          if (!dataTable) return;\n",
              "\n",
              "          const docLinkHtml = 'Like what you see? Visit the ' +\n",
              "            '<a target=\"_blank\" href=https://colab.research.google.com/notebooks/data_table.ipynb>data table notebook</a>'\n",
              "            + ' to learn more about interactive tables.';\n",
              "          element.innerHTML = '';\n",
              "          dataTable['output_type'] = 'display_data';\n",
              "          await google.colab.output.renderOutput(dataTable, element);\n",
              "          const docLink = document.createElement('div');\n",
              "          docLink.innerHTML = docLinkHtml;\n",
              "          element.appendChild(docLink);\n",
              "        }\n",
              "      </script>\n",
              "    </div>\n",
              "  </div>\n",
              "  "
            ]
          },
          "metadata": {},
          "execution_count": 6
        }
      ]
    },
    {
      "cell_type": "code",
      "source": [
        "def test(sido):\n",
        "    URL = ('http://apis.data.go.kr/B552061/frequentzoneBicycle/getRestFrequentzoneBicycle?'\n",
        "          '&ServiceKey=DRlfXP8FEUiOhxnbrYh9Cjad%2BXPzUADWQRjShzV8pMKay6Ppsl%2FhC5O9RAW18tYWM7UDVUk3RWAFeve56atnXg%3D%3D'\n",
        "          '&searchYearCd=2017'\n",
        "          '&siDo=11'\n",
        "          '&guGun=680'\n",
        "          '&type=json'\n",
        "          '&numOfRows=10'\n",
        "          '&pageNo=1')\n",
        "    response = requests.get(URL)\n",
        "    r = response.json()\n",
        "    items = r['items']['item']\n",
        "\n",
        "    afos_id = [item['afos_id'] for item in items]\n",
        "    caslt_cnt = [item['caslt_cnt'] for item in items]\n",
        "    dth_dnv_cnt = [item['dth_dnv_cnt'] for item in items]\n",
        "    sido_sgg_nm = [item['sido_sgg_nm'] for item in items]\n",
        "    spot_nm = [item['spot_nm'] for item in items]\n",
        "\n",
        "    afos_id = pd.Series(afos_id)\n",
        "    caslt_cnt = pd.Series(caslt_cnt)\n",
        "    dth_dnv_cnt = pd.Series(dth_dnv_cnt)\n",
        "    sido_sgg_nm = pd.Series(sido_sgg_nm)\n",
        "    spot_nm = pd.Series(spot_nm)\n",
        "\n",
        "    df = pd.DataFrame({'afos_id': afos_id, 'caslt_cnt': caslt_cnt, 'dht_dnv_cnt': dth_dnv_cnt, 'sido_sgg_nm': sido_sgg_nm, 'spot_nm': spot_nm})\n",
        "    return df"
      ],
      "metadata": {
        "id": "p54VGrsaqBBZ"
      },
      "execution_count": 7,
      "outputs": []
    },
    {
      "cell_type": "code",
      "source": [
        "iface = gr.Interface(test, gr.inputs.Dropdown(['서울특별시 강남구']), outputs=['dataframe'])\n",
        "iface.launch(debug=True)"
      ],
      "metadata": {
        "colab": {
          "base_uri": "https://localhost:8080/",
          "height": 669
        },
        "id": "LChAHklyxw4e",
        "outputId": "1dc92aba-1472-4dbb-c50a-6849d8be7c3b"
      },
      "execution_count": 13,
      "outputs": [
        {
          "output_type": "stream",
          "name": "stdout",
          "text": [
            "Colab notebook detected. This cell will run indefinitely so that you can see errors and logs. To turn off, set debug=False in launch().\n",
            "Running on public URL: https://27515.gradio.app\n",
            "\n",
            "This share link expires in 72 hours. For free permanent hosting, check out Spaces (https://huggingface.co/spaces)\n"
          ]
        },
        {
          "output_type": "display_data",
          "data": {
            "text/plain": [
              "<IPython.lib.display.IFrame at 0x7f4cc1d63f90>"
            ],
            "text/html": [
              "\n",
              "        <iframe\n",
              "            width=\"900\"\n",
              "            height=\"500\"\n",
              "            src=\"https://27515.gradio.app\"\n",
              "            frameborder=\"0\"\n",
              "            allowfullscreen\n",
              "        ></iframe>\n",
              "        "
            ]
          },
          "metadata": {}
        },
        {
          "output_type": "stream",
          "name": "stdout",
          "text": [
            "Keyboard interruption in main thread... closing server.\n"
          ]
        },
        {
          "output_type": "execute_result",
          "data": {
            "text/plain": [
              "(<fastapi.applications.FastAPI at 0x7f4ccc420550>,\n",
              " 'http://127.0.0.1:7860/',\n",
              " 'https://27515.gradio.app')"
            ]
          },
          "metadata": {},
          "execution_count": 13
        }
      ]
    }
  ]
}