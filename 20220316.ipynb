{
  "nbformat": 4,
  "nbformat_minor": 0,
  "metadata": {
    "colab": {
      "name": "20220316.ipynb",
      "provenance": [],
      "collapsed_sections": [],
      "authorship_tag": "ABX9TyNZBncrBM+0eOtHa4soqqA1",
      "include_colab_link": true
    },
    "kernelspec": {
      "name": "python3",
      "display_name": "Python 3"
    },
    "language_info": {
      "name": "python"
    }
  },
  "cells": [
    {
      "cell_type": "markdown",
      "metadata": {
        "id": "view-in-github",
        "colab_type": "text"
      },
      "source": [
        "<a href=\"https://colab.research.google.com/github/rhyuns/class2022Spring/blob/main/20220316.ipynb\" target=\"_parent\"><img src=\"https://colab.research.google.com/assets/colab-badge.svg\" alt=\"Open In Colab\"/></a>"
      ]
    },
    {
      "cell_type": "code",
      "execution_count": 1,
      "metadata": {
        "id": "Vm0QQVVWxtIq"
      },
      "outputs": [],
      "source": [
        "a=1"
      ]
    },
    {
      "cell_type": "code",
      "source": [
        "type(a)"
      ],
      "metadata": {
        "colab": {
          "base_uri": "https://localhost:8080/"
        },
        "id": "Dmq4WXYlD2HA",
        "outputId": "e28a74e5-5de5-4483-f05e-f6151d7285f4"
      },
      "execution_count": 2,
      "outputs": [
        {
          "output_type": "execute_result",
          "data": {
            "text/plain": [
              "int"
            ]
          },
          "metadata": {},
          "execution_count": 2
        }
      ]
    },
    {
      "cell_type": "markdown",
      "source": [
        "정수인 변수"
      ],
      "metadata": {
        "id": "C58VTVgtEMDf"
      }
    },
    {
      "cell_type": "code",
      "source": [
        "a=1.0"
      ],
      "metadata": {
        "id": "VnUBGfq9D-sY"
      },
      "execution_count": 5,
      "outputs": []
    },
    {
      "cell_type": "code",
      "source": [
        "type(a)"
      ],
      "metadata": {
        "colab": {
          "base_uri": "https://localhost:8080/"
        },
        "id": "rDnLK5ohEAgH",
        "outputId": "c5033fa5-6aa2-4a1b-e043-2e18b46d92c0"
      },
      "execution_count": 6,
      "outputs": [
        {
          "output_type": "execute_result",
          "data": {
            "text/plain": [
              "float"
            ]
          },
          "metadata": {},
          "execution_count": 6
        }
      ]
    },
    {
      "cell_type": "markdown",
      "source": [
        "실수인 변수"
      ],
      "metadata": {
        "id": "JNnY2q0yESmo"
      }
    },
    {
      "cell_type": "code",
      "source": [
        "a='abcdef'"
      ],
      "metadata": {
        "id": "VvOC2ogfEVED"
      },
      "execution_count": 16,
      "outputs": []
    },
    {
      "cell_type": "code",
      "source": [
        "type(a)"
      ],
      "metadata": {
        "colab": {
          "base_uri": "https://localhost:8080/"
        },
        "id": "jXP-pw3pFhDA",
        "outputId": "005c0e4f-1800-474f-dd9b-f7e2f76cef60"
      },
      "execution_count": 17,
      "outputs": [
        {
          "output_type": "execute_result",
          "data": {
            "text/plain": [
              "str"
            ]
          },
          "metadata": {},
          "execution_count": 17
        }
      ]
    },
    {
      "cell_type": "code",
      "source": [
        "a[0:4]"
      ],
      "metadata": {
        "colab": {
          "base_uri": "https://localhost:8080/",
          "height": 36
        },
        "id": "IiDB6KNbEZu1",
        "outputId": "37d85021-af4a-429d-a623-9e72f67ba696"
      },
      "execution_count": 8,
      "outputs": [
        {
          "output_type": "execute_result",
          "data": {
            "text/plain": [
              "'abcd'"
            ],
            "application/vnd.google.colaboratory.intrinsic+json": {
              "type": "string"
            }
          },
          "metadata": {},
          "execution_count": 8
        }
      ]
    },
    {
      "cell_type": "markdown",
      "source": [
        "cell의 마지막 줄은 굳이 print하지 않아도 됨"
      ],
      "metadata": {
        "id": "IYyiZiXTEjLb"
      }
    },
    {
      "cell_type": "code",
      "source": [
        "a[:-1]"
      ],
      "metadata": {
        "colab": {
          "base_uri": "https://localhost:8080/",
          "height": 36
        },
        "id": "kNFo_CuGEn7G",
        "outputId": "693a5009-7a83-4f40-bf34-010e323edcd6"
      },
      "execution_count": 9,
      "outputs": [
        {
          "output_type": "execute_result",
          "data": {
            "text/plain": [
              "'abcde'"
            ],
            "application/vnd.google.colaboratory.intrinsic+json": {
              "type": "string"
            }
          },
          "metadata": {},
          "execution_count": 9
        }
      ]
    },
    {
      "cell_type": "markdown",
      "source": [
        "첫번째가 0이므로 마지막이 -1임"
      ],
      "metadata": {
        "id": "BPJJUaLvFNxM"
      }
    },
    {
      "cell_type": "code",
      "source": [
        "a=[1,2,3,4,5,6]"
      ],
      "metadata": {
        "id": "7kJACUl9Ewk3"
      },
      "execution_count": 18,
      "outputs": []
    },
    {
      "cell_type": "code",
      "source": [
        "type(a)"
      ],
      "metadata": {
        "colab": {
          "base_uri": "https://localhost:8080/"
        },
        "id": "kOwPiMmlFlua",
        "outputId": "0e8cd8dc-5e2f-47f2-fcc2-4dd49ebe27c6"
      },
      "execution_count": 19,
      "outputs": [
        {
          "output_type": "execute_result",
          "data": {
            "text/plain": [
              "list"
            ]
          },
          "metadata": {},
          "execution_count": 19
        }
      ]
    },
    {
      "cell_type": "code",
      "source": [
        "a[:]"
      ],
      "metadata": {
        "colab": {
          "base_uri": "https://localhost:8080/"
        },
        "id": "cCNKvBftE1rn",
        "outputId": "318c449c-39ff-4e0d-f091-33ba5f4ae744"
      },
      "execution_count": 12,
      "outputs": [
        {
          "output_type": "execute_result",
          "data": {
            "text/plain": [
              "[1, 2, 3, 4, 5, 6]"
            ]
          },
          "metadata": {},
          "execution_count": 12
        }
      ]
    },
    {
      "cell_type": "code",
      "source": [
        "a[-4:-1]"
      ],
      "metadata": {
        "colab": {
          "base_uri": "https://localhost:8080/"
        },
        "id": "Npw8kCQSFFm5",
        "outputId": "242b6331-5027-40e2-9e98-f0aa4745ff73"
      },
      "execution_count": 14,
      "outputs": [
        {
          "output_type": "execute_result",
          "data": {
            "text/plain": [
              "[3, 4, 5]"
            ]
          },
          "metadata": {},
          "execution_count": 14
        }
      ]
    },
    {
      "cell_type": "code",
      "source": [
        "a={'a':'apple','b':'banana','c':'candy'}"
      ],
      "metadata": {
        "id": "UsuqsGNvF3Q7"
      },
      "execution_count": 20,
      "outputs": []
    },
    {
      "cell_type": "code",
      "source": [
        "type(a)"
      ],
      "metadata": {
        "colab": {
          "base_uri": "https://localhost:8080/"
        },
        "id": "eFDOAPgRGD7F",
        "outputId": "99d59778-b298-4616-86aa-92c30d9bf61d"
      },
      "execution_count": 21,
      "outputs": [
        {
          "output_type": "execute_result",
          "data": {
            "text/plain": [
              "dict"
            ]
          },
          "metadata": {},
          "execution_count": 21
        }
      ]
    },
    {
      "cell_type": "code",
      "source": [
        "print(a['c'])"
      ],
      "metadata": {
        "colab": {
          "base_uri": "https://localhost:8080/"
        },
        "id": "zDg_miOrGHrJ",
        "outputId": "15edd483-9473-4fd2-b2ea-23e1a910bc9b"
      },
      "execution_count": 23,
      "outputs": [
        {
          "output_type": "stream",
          "name": "stdout",
          "text": [
            "candy\n"
          ]
        }
      ]
    },
    {
      "cell_type": "markdown",
      "source": [
        "string에서 quote 빼먹으면 안됨"
      ],
      "metadata": {
        "id": "AjUfV83xGSTn"
      }
    },
    {
      "cell_type": "code",
      "source": [
        "a=['a','b','c','d','e','f']"
      ],
      "metadata": {
        "id": "ys3eF-DpGbKh"
      },
      "execution_count": 26,
      "outputs": []
    },
    {
      "cell_type": "code",
      "source": [
        "len(a)"
      ],
      "metadata": {
        "colab": {
          "base_uri": "https://localhost:8080/"
        },
        "id": "h2a2pF-vHOsP",
        "outputId": "d5b52166-9a7d-4c18-bc92-517c17c6b09d"
      },
      "execution_count": 27,
      "outputs": [
        {
          "output_type": "execute_result",
          "data": {
            "text/plain": [
              "6"
            ]
          },
          "metadata": {},
          "execution_count": 27
        }
      ]
    },
    {
      "cell_type": "code",
      "source": [
        "s='abcdef'"
      ],
      "metadata": {
        "id": "xhBP-U7PHflE"
      },
      "execution_count": 29,
      "outputs": []
    },
    {
      "cell_type": "code",
      "source": [
        "s.upper()"
      ],
      "metadata": {
        "colab": {
          "base_uri": "https://localhost:8080/",
          "height": 36
        },
        "id": "h0FXS8WRHh7R",
        "outputId": "aad9c857-36cf-4395-9fef-8c4543bea53a"
      },
      "execution_count": 30,
      "outputs": [
        {
          "output_type": "execute_result",
          "data": {
            "text/plain": [
              "'ABCDEF'"
            ],
            "application/vnd.google.colaboratory.intrinsic+json": {
              "type": "string"
            }
          },
          "metadata": {},
          "execution_count": 30
        }
      ]
    },
    {
      "cell_type": "code",
      "source": [
        "s=' I am doing my assignment. '"
      ],
      "metadata": {
        "id": "A7QI7BaLH0w6"
      },
      "execution_count": 50,
      "outputs": []
    },
    {
      "cell_type": "code",
      "source": [
        "result = s.find('my')\n",
        "result"
      ],
      "metadata": {
        "colab": {
          "base_uri": "https://localhost:8080/"
        },
        "id": "44cxo_jrH7_s",
        "outputId": "841f0840-c0ea-4f4c-ae08-926b5faa15ec"
      },
      "execution_count": 33,
      "outputs": [
        {
          "output_type": "execute_result",
          "data": {
            "text/plain": [
              "12"
            ]
          },
          "metadata": {},
          "execution_count": 33
        }
      ]
    },
    {
      "cell_type": "code",
      "source": [
        "s = s.strip()\n",
        "s"
      ],
      "metadata": {
        "colab": {
          "base_uri": "https://localhost:8080/",
          "height": 36
        },
        "id": "OJaULZDQKe-c",
        "outputId": "33097f83-e329-4996-88d8-12e34fa09866"
      },
      "execution_count": 51,
      "outputs": [
        {
          "output_type": "execute_result",
          "data": {
            "text/plain": [
              "'I am doing my assignment.'"
            ],
            "application/vnd.google.colaboratory.intrinsic+json": {
              "type": "string"
            }
          },
          "metadata": {},
          "execution_count": 51
        }
      ]
    },
    {
      "cell_type": "code",
      "source": [
        "result = s.split(' ')\n",
        "result"
      ],
      "metadata": {
        "colab": {
          "base_uri": "https://localhost:8080/"
        },
        "id": "DG_gnwn5KlEP",
        "outputId": "f0ab9c34-e913-41a1-e41f-b21b1477e67e"
      },
      "execution_count": 52,
      "outputs": [
        {
          "output_type": "execute_result",
          "data": {
            "text/plain": [
              "['I', 'am', 'doing', 'my', 'assignment.']"
            ]
          },
          "metadata": {},
          "execution_count": 52
        }
      ]
    },
    {
      "cell_type": "code",
      "source": [
        "s = ' '.join(result)\n",
        "s"
      ],
      "metadata": {
        "colab": {
          "base_uri": "https://localhost:8080/",
          "height": 36
        },
        "id": "m9W5W0FjKqK_",
        "outputId": "876f8d2a-8988-416c-c1c2-f0eabffd6818"
      },
      "execution_count": 56,
      "outputs": [
        {
          "output_type": "execute_result",
          "data": {
            "text/plain": [
              "'I am doing my assignment.'"
            ],
            "application/vnd.google.colaboratory.intrinsic+json": {
              "type": "string"
            }
          },
          "metadata": {},
          "execution_count": 56
        }
      ]
    },
    {
      "cell_type": "code",
      "source": [
        "s = s.replace('my','your')\n",
        "s"
      ],
      "metadata": {
        "colab": {
          "base_uri": "https://localhost:8080/",
          "height": 36
        },
        "id": "6oENltdBLKoR",
        "outputId": "8249690c-8994-4608-a7f7-65a0b214d58f"
      },
      "execution_count": 57,
      "outputs": [
        {
          "output_type": "execute_result",
          "data": {
            "text/plain": [
              "'I am doing your assignment.'"
            ],
            "application/vnd.google.colaboratory.intrinsic+json": {
              "type": "string"
            }
          },
          "metadata": {},
          "execution_count": 57
        }
      ]
    },
    {
      "cell_type": "code",
      "source": [
        "def add(a,b):\n",
        "  return a+b"
      ],
      "metadata": {
        "id": "WrssWbsoL6HZ"
      },
      "execution_count": 59,
      "outputs": []
    },
    {
      "cell_type": "code",
      "source": [
        "c = add(1,2)\n",
        "c"
      ],
      "metadata": {
        "colab": {
          "base_uri": "https://localhost:8080/"
        },
        "id": "85hYC-MxMD2C",
        "outputId": "095b3b02-80be-4de3-d176-b1673d34602e"
      },
      "execution_count": 60,
      "outputs": [
        {
          "output_type": "execute_result",
          "data": {
            "text/plain": [
              "3"
            ]
          },
          "metadata": {},
          "execution_count": 60
        }
      ]
    },
    {
      "cell_type": "code",
      "source": [
        "a = [1,2,3,4]\n",
        "for i in a:\n",
        "    print(i)"
      ],
      "metadata": {
        "colab": {
          "base_uri": "https://localhost:8080/"
        },
        "id": "gdqbT7xmMi6b",
        "outputId": "11ceeeec-c08b-416e-f6d3-9f358882e9a4"
      },
      "execution_count": 62,
      "outputs": [
        {
          "output_type": "stream",
          "name": "stdout",
          "text": [
            "1\n",
            "2\n",
            "3\n",
            "4\n"
          ]
        }
      ]
    },
    {
      "cell_type": "code",
      "source": [
        "a = [1,2,3,4]\n",
        "for i in range(len(a)):\n",
        "    print(a[i])"
      ],
      "metadata": {
        "colab": {
          "base_uri": "https://localhost:8080/"
        },
        "id": "FEB5c7gwMoeX",
        "outputId": "cbe98af1-af88-49f2-9c47-742b187b5324"
      },
      "execution_count": 63,
      "outputs": [
        {
          "output_type": "stream",
          "name": "stdout",
          "text": [
            "1\n",
            "2\n",
            "3\n",
            "4\n"
          ]
        }
      ]
    },
    {
      "cell_type": "markdown",
      "source": [
        "range 안에 숫자를 넣으면 리스트가 만들어짐\n",
        "ex. range(4)는 [0,1,2,3]"
      ],
      "metadata": {
        "id": "SwNk0Mg5NeEM"
      }
    },
    {
      "cell_type": "code",
      "source": [
        "a = [1,2,3,4]\n",
        "for i in range(4):\n",
        "    print(a[i])"
      ],
      "metadata": {
        "colab": {
          "base_uri": "https://localhost:8080/"
        },
        "id": "YdOd8zisNNk5",
        "outputId": "f70d17c5-bd5f-4fc6-ffb7-4b431fe1952f"
      },
      "execution_count": 65,
      "outputs": [
        {
          "output_type": "stream",
          "name": "stdout",
          "text": [
            "1\n",
            "2\n",
            "3\n",
            "4\n"
          ]
        }
      ]
    },
    {
      "cell_type": "code",
      "source": [
        "a = 1\n",
        "if a == 1:\n",
        "    print(a)"
      ],
      "metadata": {
        "colab": {
          "base_uri": "https://localhost:8080/"
        },
        "id": "GUh2-GaTNsPT",
        "outputId": "5194051a-776d-4a44-99eb-31f77ce96e21"
      },
      "execution_count": 66,
      "outputs": [
        {
          "output_type": "stream",
          "name": "stdout",
          "text": [
            "1\n"
          ]
        }
      ]
    },
    {
      "cell_type": "code",
      "source": [
        "a = 1\n",
        "if a != 0:\n",
        "    print(a)"
      ],
      "metadata": {
        "colab": {
          "base_uri": "https://localhost:8080/"
        },
        "id": "BfotaFXdOHKU",
        "outputId": "13602559-197f-450a-8ede-8d07ea1bfdf1"
      },
      "execution_count": 67,
      "outputs": [
        {
          "output_type": "stream",
          "name": "stdout",
          "text": [
            "1\n"
          ]
        }
      ]
    },
    {
      "cell_type": "code",
      "source": [
        "a = 1\n",
        "if a == 0:\n",
        "    print(a)\n",
        "else:\n",
        "    print(a+1)"
      ],
      "metadata": {
        "colab": {
          "base_uri": "https://localhost:8080/"
        },
        "id": "PDeU1NKHOVjQ",
        "outputId": "741d7fd8-ad74-4564-e2da-0fe7128fbf1a"
      },
      "execution_count": 68,
      "outputs": [
        {
          "output_type": "stream",
          "name": "stdout",
          "text": [
            "2\n"
          ]
        }
      ]
    },
    {
      "cell_type": "code",
      "source": [
        "for i in range(2,4):\n",
        "    for j in range (3,5):\n",
        "        print(i*j)"
      ],
      "metadata": {
        "colab": {
          "base_uri": "https://localhost:8080/"
        },
        "id": "nrhxC0oNPAat",
        "outputId": "823140d6-6116-42a5-fcd9-6e6c0f548834"
      },
      "execution_count": 71,
      "outputs": [
        {
          "output_type": "stream",
          "name": "stdout",
          "text": [
            "6\n",
            "8\n",
            "9\n",
            "12\n"
          ]
        }
      ]
    },
    {
      "cell_type": "markdown",
      "source": [
        "colon 빼먹지 않기"
      ],
      "metadata": {
        "id": "ynB_O5yUPR-f"
      }
    },
    {
      "cell_type": "code",
      "source": [
        "for i in range(2,4):\n",
        "    for j in range(3,5):\n",
        "        if j>3:\n",
        "          print(i*j)"
      ],
      "metadata": {
        "colab": {
          "base_uri": "https://localhost:8080/"
        },
        "id": "18wAara2PWdd",
        "outputId": "35c15156-695d-47a6-d873-f0e326bdd373"
      },
      "execution_count": 72,
      "outputs": [
        {
          "output_type": "stream",
          "name": "stdout",
          "text": [
            "8\n",
            "12\n"
          ]
        }
      ]
    },
    {
      "cell_type": "code",
      "source": [
        "a = [1,2,3,4]\n",
        "b = [i for i in a if i<4]\n",
        "b"
      ],
      "metadata": {
        "colab": {
          "base_uri": "https://localhost:8080/"
        },
        "id": "hqHwQSEmP946",
        "outputId": "09979b34-55a8-4c11-b09c-115182a1de7a"
      },
      "execution_count": 73,
      "outputs": [
        {
          "output_type": "execute_result",
          "data": {
            "text/plain": [
              "[1, 2, 3]"
            ]
          },
          "metadata": {},
          "execution_count": 73
        }
      ]
    },
    {
      "cell_type": "code",
      "source": [
        "a = ['apple','banana','candy']\n",
        "b = [i for i in a if len(i)>5]\n",
        "b"
      ],
      "metadata": {
        "colab": {
          "base_uri": "https://localhost:8080/"
        },
        "id": "i9a5-MtIQJMn",
        "outputId": "c24eb640-b83a-4207-ec61-cbb1adb82770"
      },
      "execution_count": 75,
      "outputs": [
        {
          "output_type": "execute_result",
          "data": {
            "text/plain": [
              "['banana']"
            ]
          },
          "metadata": {},
          "execution_count": 75
        }
      ]
    },
    {
      "cell_type": "code",
      "source": [
        "import numpy as np"
      ],
      "metadata": {
        "id": "ZNUOvkEoX8l4"
      },
      "execution_count": 77,
      "outputs": []
    },
    {
      "cell_type": "markdown",
      "source": [
        "편의를 위해 np로 줄여서 불러오는 것임"
      ],
      "metadata": {
        "id": "RCxOESiXcQ_k"
      }
    },
    {
      "cell_type": "code",
      "source": [
        "x = np.array([1,2,3])\n",
        "x"
      ],
      "metadata": {
        "colab": {
          "base_uri": "https://localhost:8080/"
        },
        "id": "9CwPVyj7YPPC",
        "outputId": "559ebcf2-10ee-4f45-81f7-5afb385bc7b1"
      },
      "execution_count": 79,
      "outputs": [
        {
          "output_type": "execute_result",
          "data": {
            "text/plain": [
              "array([1, 2, 3])"
            ]
          },
          "metadata": {},
          "execution_count": 79
        }
      ]
    },
    {
      "cell_type": "code",
      "source": [
        "x = np.arange(0,10,2)\n",
        "x"
      ],
      "metadata": {
        "colab": {
          "base_uri": "https://localhost:8080/"
        },
        "id": "gOXGUsbHYb1X",
        "outputId": "9a4b147d-6b62-4dc9-a9db-6600de390c42"
      },
      "execution_count": 82,
      "outputs": [
        {
          "output_type": "execute_result",
          "data": {
            "text/plain": [
              "array([0, 2, 4, 6, 8])"
            ]
          },
          "metadata": {},
          "execution_count": 82
        }
      ]
    },
    {
      "cell_type": "markdown",
      "source": [
        "0부터 10까지 2씩 증가하게"
      ],
      "metadata": {
        "id": "jLdepT0_ceO9"
      }
    },
    {
      "cell_type": "code",
      "source": [
        "x = np.linspace(0,10,6)\n",
        "x"
      ],
      "metadata": {
        "colab": {
          "base_uri": "https://localhost:8080/"
        },
        "id": "WCqNWLjIYuMV",
        "outputId": "a2b3e4eb-d170-4728-cd9e-6b2c1adc7a0b"
      },
      "execution_count": 83,
      "outputs": [
        {
          "output_type": "execute_result",
          "data": {
            "text/plain": [
              "array([ 0.,  2.,  4.,  6.,  8., 10.])"
            ]
          },
          "metadata": {},
          "execution_count": 83
        }
      ]
    },
    {
      "cell_type": "markdown",
      "source": [
        "0과 10을 포함하여 6개를 만드는데 일정한 간격으로"
      ],
      "metadata": {
        "id": "MCCCtdV4chxx"
      }
    },
    {
      "cell_type": "code",
      "source": [
        "x = np.array([[1,2,3],[4,5,6]])\n",
        "print(x.shape)\n",
        "x"
      ],
      "metadata": {
        "colab": {
          "base_uri": "https://localhost:8080/"
        },
        "id": "zxolbC6PY150",
        "outputId": "b7bc955a-b204-4ec5-f3cb-06d78048bb3f"
      },
      "execution_count": 100,
      "outputs": [
        {
          "output_type": "stream",
          "name": "stdout",
          "text": [
            "(2, 3)\n"
          ]
        },
        {
          "output_type": "execute_result",
          "data": {
            "text/plain": [
              "array([[1, 2, 3],\n",
              "       [4, 5, 6]])"
            ]
          },
          "metadata": {},
          "execution_count": 100
        }
      ]
    },
    {
      "cell_type": "code",
      "source": [
        "x = np.array([[[1,2,3],[4,5,6]],[[7,8,9],[10,11,12]]])\n",
        "print(x.shape)\n",
        "x"
      ],
      "metadata": {
        "colab": {
          "base_uri": "https://localhost:8080/"
        },
        "id": "d09cxWqXZEWy",
        "outputId": "f6cfb55b-7bab-495e-c90e-1caf1c1d9ca0"
      },
      "execution_count": 88,
      "outputs": [
        {
          "output_type": "stream",
          "name": "stdout",
          "text": [
            "(2, 2, 3)\n"
          ]
        },
        {
          "output_type": "execute_result",
          "data": {
            "text/plain": [
              "array([[[ 1,  2,  3],\n",
              "        [ 4,  5,  6]],\n",
              "\n",
              "       [[ 7,  8,  9],\n",
              "        [10, 11, 12]]])"
            ]
          },
          "metadata": {},
          "execution_count": 88
        }
      ]
    },
    {
      "cell_type": "markdown",
      "source": [
        "대괄호가 몇 개 중첩됐는지 보면 dimension을 알 수 있음"
      ],
      "metadata": {
        "id": "Zr736aSoZXRu"
      }
    },
    {
      "cell_type": "code",
      "source": [
        "x = np.random.normal(0,1,[2,3,3])\n",
        "x"
      ],
      "metadata": {
        "colab": {
          "base_uri": "https://localhost:8080/"
        },
        "id": "ao3qLlVXZcS6",
        "outputId": "6c369cca-9145-44a9-b732-8816e3a7ff43"
      },
      "execution_count": 89,
      "outputs": [
        {
          "output_type": "execute_result",
          "data": {
            "text/plain": [
              "array([[[ 0.57427176,  0.15183388,  0.23931744],\n",
              "        [ 1.80695791, -1.34842016,  0.83501768],\n",
              "        [-0.13019892, -1.00560365, -0.98336537]],\n",
              "\n",
              "       [[ 1.23277674, -0.76810854, -0.64330823],\n",
              "        [-0.27289038, -0.22252901, -0.64841805],\n",
              "        [ 1.44785427,  1.25107461,  0.82931263]]])"
            ]
          },
          "metadata": {},
          "execution_count": 89
        }
      ]
    },
    {
      "cell_type": "markdown",
      "source": [
        "대괄호는 어떤 모양으로 만들지 알려줌"
      ],
      "metadata": {
        "id": "dPZsYItaaRcY"
      }
    },
    {
      "cell_type": "code",
      "source": [
        "import matplotlib.pyplot as plt"
      ],
      "metadata": {
        "id": "IDL1HjjGafjO"
      },
      "execution_count": 90,
      "outputs": []
    },
    {
      "cell_type": "code",
      "source": [
        "x = np.random.normal(0,1,100)\n",
        "print(x)\n",
        "plt.hist(x,bins=10)"
      ],
      "metadata": {
        "colab": {
          "base_uri": "https://localhost:8080/",
          "height": 676
        },
        "id": "XzBS3hkNa4y5",
        "outputId": "b59d925b-287d-44b0-abcc-5b2afc86e612"
      },
      "execution_count": 95,
      "outputs": [
        {
          "output_type": "stream",
          "name": "stdout",
          "text": [
            "[ 0.26097384  0.68777146 -0.15555284  1.10415336 -0.749354    2.12906005\n",
            "  0.73082265 -0.54003735  0.2261603   0.21793474  1.08830561 -0.36027336\n",
            "  1.66560863 -0.47486889 -0.10320749 -0.29424169 -0.3737287   1.42341784\n",
            "  1.30738854 -0.12698234  0.06917824 -1.01044775  0.0528385  -1.08976364\n",
            " -0.75218366 -0.16735844  0.05807526  0.20307609 -0.71818248 -0.15420823\n",
            " -1.00724947  1.1772676  -0.56228937  0.15320804 -0.22705778  0.93055582\n",
            " -1.03762193  1.14896923 -0.61057466  0.01250357 -0.00716213 -0.19207034\n",
            " -0.82158717 -1.17215903 -2.52448081  0.40603358  1.52424541  0.44283186\n",
            "  0.05145313  1.4109614   0.98478228  0.32719172 -0.35894498 -0.13650991\n",
            "  0.8935628   0.10602256 -1.82165974  1.15840938 -1.23035075 -0.89090462\n",
            "  0.47270711  1.05044514  0.39807488  0.55586736 -0.72262468 -1.75557816\n",
            " -1.72218802 -0.76973679  1.17536766  0.75578509 -0.85346811 -0.25365616\n",
            " -0.12830336 -1.25961672 -0.28746539  1.08951726 -0.17955568  0.88699768\n",
            " -2.50970154 -0.30247698  0.04657141 -2.0342372   0.8111287   1.71866536\n",
            " -0.68813786  1.10549708  0.78809448  0.71981988 -0.20972704 -0.25230053\n",
            "  0.29735738  2.23203867  0.63181962  0.54904109 -0.26316999 -1.52853369\n",
            " -1.06306333 -1.49559151 -1.0004336   0.28292417]\n"
          ]
        },
        {
          "output_type": "execute_result",
          "data": {
            "text/plain": [
              "(array([ 2.,  4.,  5., 15., 20., 20., 12., 14.,  6.,  2.]),\n",
              " array([-2.52448081, -2.04882886, -1.57317691, -1.09752497, -0.62187302,\n",
              "        -0.14622107,  0.32943088,  0.80508282,  1.28073477,  1.75638672,\n",
              "         2.23203867]),\n",
              " <a list of 10 Patch objects>)"
            ]
          },
          "metadata": {},
          "execution_count": 95
        },
        {
          "output_type": "display_data",
          "data": {
            "text/plain": [
              "<Figure size 432x288 with 1 Axes>"
            ],
            "image/png": "[encoded data removed]"
          },
          "metadata": {
            "needs_background": "light"
          }
        }
      ]
    },
    {
      "cell_type": "markdown",
      "source": [
        "bins는 막대기(?)의 개수"
      ],
      "metadata": {
        "id": "culzK5fMcvRT"
      }
    },
    {
      "cell_type": "code",
      "source": [
        "plt.figure()\n",
        "theta1=np.linspace(0,2*np.pi,100)\n",
        "s1=np.sin(theta1)\n",
        "theta2=np.linspace(0,2*np.pi,100)+np.pi/2\n",
        "s2=np.sin(theta2)\n",
        "plt.subplot(2,1,1)\n",
        "plt.plot(theta1,s1,'.')\n",
        "plt.subplot(2,1,2)\n",
        "plt.plot(theta2,s2,'.')"
      ],
      "metadata": {
        "colab": {
          "base_uri": "https://localhost:8080/",
          "height": 284
        },
        "id": "rnR8cbVdbJpa",
        "outputId": "7c829a79-5aec-438a-ec63-3ff2648b418f"
      },
      "execution_count": 97,
      "outputs": [
        {
          "output_type": "execute_result",
          "data": {
            "text/plain": [
              "[<matplotlib.lines.Line2D at 0x7fd246fbd8d0>]"
            ]
          },
          "metadata": {},
          "execution_count": 97
        },
        {
          "output_type": "display_data",
          "data": {
            "text/plain": [
              "<Figure size 432x288 with 2 Axes>"
            ],
            "image/png": "[encoded data removed]"
          },
          "metadata": {
            "needs_background": "light"
          }
        }
      ]
    },
    {
      "cell_type": "code",
      "source": [
        "np.corrcoef(s1,s2)"
      ],
      "metadata": {
        "colab": {
          "base_uri": "https://localhost:8080/"
        },
        "id": "uPM0J214bv8m",
        "outputId": "3a6144fe-9212-443e-cf27-2006334132bc"
      },
      "execution_count": 99,
      "outputs": [
        {
          "output_type": "execute_result",
          "data": {
            "text/plain": [
              "array([[1.00000000e+00, 2.41915449e-17],\n",
              "       [2.41915449e-17, 1.00000000e+00]])"
            ]
          },
          "metadata": {},
          "execution_count": 99
        }
      ]
    }
  ]
}