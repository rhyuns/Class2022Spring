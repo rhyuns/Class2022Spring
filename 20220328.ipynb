{
  "nbformat": 4,
  "nbformat_minor": 0,
  "metadata": {
    "colab": {
      "name": "Untitled0.ipynb",
      "provenance": [],
      "authorship_tag": "ABX9TyOFOTeMVtgf3Fps7zw9H87A",
      "include_colab_link": true
    },
    "kernelspec": {
      "name": "python3",
      "display_name": "Python 3"
    },
    "language_info": {
      "name": "python"
    }
  },
  "cells": [
    {
      "cell_type": "markdown",
      "metadata": {
        "id": "view-in-github",
        "colab_type": "text"
      },
      "source": [
        "<a href=\"https://colab.research.google.com/github/rhyuns/class2022Spring/blob/main/20220328.ipynb\" target=\"_parent\"><img src=\"https://colab.research.google.com/assets/colab-badge.svg\" alt=\"Open In Colab\"/></a>"
      ]
    },
    {
      "cell_type": "code",
      "execution_count": null,
      "metadata": {
        "id": "niVC84ggQwPB"
      },
      "outputs": [],
      "source": [
        "!pip install gradio\n",
        "import gradio as gr\n",
        "import requests\n",
        "import pandas as pd\n"
      ]
    },
    {
      "cell_type": "code",
      "source": [
        "URL = ('http://ws.bus.go.kr/api/rest/arrive/'\n",
        "'getLowArrInfoByRoute?'\n",
        "'ServiceKey=DRlfXP8FEUiOhxnbrYh9Cjad%2BXPzUADWQRjShzV8pMKay6Ppsl%2FhC5O9RAW18tYWM7UDVUk3RWAFeve56atnXg%3D%3D'\n",
        "'&stId=112000001'\n",
        "'&busRouteId=100100118'\n",
        "'&ord=18'\n",
        "'&resultType=json')\n",
        "response = requests.get(URL)"
      ],
      "metadata": {
        "id": "yIjuGiuXUsm9"
      },
      "execution_count": 29,
      "outputs": []
    },
    {
      "cell_type": "code",
      "source": [
        "response"
      ],
      "metadata": {
        "colab": {
          "base_uri": "https://localhost:8080/"
        },
        "id": "D2Yfi_l-aZiz",
        "outputId": "ede5b53d-d956-4eff-a613-ad32fb922faa"
      },
      "execution_count": 30,
      "outputs": [
        {
          "output_type": "execute_result",
          "data": {
            "text/plain": [
              "<Response [200]>"
            ]
          },
          "metadata": {},
          "execution_count": 30
        }
      ]
    },
    {
      "cell_type": "code",
      "source": [
        "r = response.json()\n",
        "r"
      ],
      "metadata": {
        "colab": {
          "base_uri": "https://localhost:8080/"
        },
        "id": "9mnvE0xDW0Vb",
        "outputId": "458fd878-bccf-49fb-efef-550ca4b242ee"
      },
      "execution_count": 31,
      "outputs": [
        {
          "output_type": "execute_result",
          "data": {
            "text/plain": [
              "{'comMsgHeader': {'errMsg': None,\n",
              "  'requestMsgID': None,\n",
              "  'responseMsgID': None,\n",
              "  'responseTime': None,\n",
              "  'returnCode': None,\n",
              "  'successYN': None},\n",
              " 'msgBody': {'itemList': None},\n",
              " 'msgHeader': {'headerCd': '7',\n",
              "  'headerMsg': 'Key인증실패: SERVICE KEY IS NOT REGISTERED ERROR.[인증모듈 에러코드(30)]',\n",
              "  'itemCount': 0}}"
            ]
          },
          "metadata": {},
          "execution_count": 31
        }
      ]
    }
  ]
}