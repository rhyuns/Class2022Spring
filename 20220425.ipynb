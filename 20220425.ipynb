{
  "nbformat": 4,
  "nbformat_minor": 0,
  "metadata": {
    "colab": {
      "name": "20220425.ipynb",
      "provenance": [],
      "authorship_tag": "ABX9TyOA1grUzvrlPNgxiKWBtzL9",
      "include_colab_link": true
    },
    "kernelspec": {
      "name": "python3",
      "display_name": "Python 3"
    },
    "language_info": {
      "name": "python"
    }
  },
  "cells": [
    {
      "cell_type": "markdown",
      "metadata": {
        "id": "view-in-github",
        "colab_type": "text"
      },
      "source": [
        "<a href=\"https://colab.research.google.com/github/rhyuns/class2022Spring/blob/main/20220425.ipynb\" target=\"_parent\"><img src=\"https://colab.research.google.com/assets/colab-badge.svg\" alt=\"Open In Colab\"/></a>"
      ]
    },
    {
      "cell_type": "markdown",
      "source": [
        "**Auto correlation**\n",
        "\n",
        "Auto correlation은 연속되는 시간동안의 특정 time series와 이 time series과 시간상 차이가 나는 버전 사이의 유사성을 측정해준다.\n",
        "\n",
        "변수의 현재 값과 과거 값 사이의 관계를 측정하는 것이라고 볼 수 있다.\n",
        "\n",
        "두 변수의 유사성이 높으면 과거의 값을 참조하는 것만으로도 미래의 값을 예측하기가 쉬워진다.\n",
        "\n",
        "pitch를 추정할 때 사용될 수 있다."
      ],
      "metadata": {
        "id": "yDCVVp39YL6h"
      }
    },
    {
      "cell_type": "markdown",
      "source": [
        "**Root Mean Square (RMS)**\n",
        "\n",
        "Root Mean Square은 한국어로 말하자면 제곱평균제곱근이며 사인 함수처럼 변수들이 음과 양의 값을 왔다 갔다 할 때 유용한 값이다.\n",
        "\n",
        "함수에 있는 값들의 제곱에 대한 평균의 제곱근인 것이다.\n",
        "\n",
        "RMS 즉 RMS의 오차를 통해 정밀도의 정도를 알아낼 수 있다. RMS의 error 즉 RMSE가 높다는 것은 정밀도가 높다는 것을 의미한다."
      ],
      "metadata": {
        "id": "tMqmXzy3ni4w"
      }
    }
  ]
}